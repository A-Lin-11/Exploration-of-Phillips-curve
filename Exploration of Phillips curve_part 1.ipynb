{
 "cells": [
  {
   "cell_type": "markdown",
   "metadata": {},
   "source": [
    "# SI618 Project 1: Exploration of Phillips curve"
   ]
  },
  {
   "cell_type": "markdown",
   "metadata": {},
   "source": [
    "#### Andrew Lin"
   ]
  },
  {
   "cell_type": "code",
   "execution_count": 27,
   "metadata": {
    "collapsed": false
   },
   "outputs": [
    {
     "data": {
      "text/html": [
       "<style>body {\n",
       "    margin: 0;\n",
       "    font-family: Helvetica;\n",
       "}\n",
       "table.dataframe {\n",
       "    border-collapse: collapse;\n",
       "    border: none;\n",
       "}\n",
       "table.dataframe tr {\n",
       "    border: none;\n",
       "}\n",
       "table.dataframe td, table.dataframe th {\n",
       "    margin: 0;\n",
       "    border: 1px solid white;\n",
       "    padding-left: 0.25em;\n",
       "    padding-right: 0.25em;\n",
       "}\n",
       "table.dataframe th:not(:empty) {\n",
       "    background-color: #fec;\n",
       "    text-align: left;\n",
       "    font-weight: normal;\n",
       "}\n",
       "table.dataframe tr:nth-child(2) th:empty {\n",
       "    border-left: none;\n",
       "    border-right: 1px dashed #888;\n",
       "}\n",
       "table.dataframe td {\n",
       "    border: 2px solid #ccf;\n",
       "    background-color: #f4f4ff;\n",
       "}\n",
       "h3 {\n",
       "    color: white;\n",
       "    background-color: black;\n",
       "    padding: 0.5em;\n",
       "}\n",
       "</style>"
      ],
      "text/plain": [
       "<IPython.core.display.HTML object>"
      ]
     },
     "execution_count": 27,
     "metadata": {},
     "output_type": "execute_result"
    }
   ],
   "source": [
    "import pandas as pd\n",
    "import numpy as np\n",
    "import seaborn as sns\n",
    "from scipy import stats\n",
    "import statsmodels.formula.api as smf\n",
    "import statsmodels.api as sm\n",
    "%matplotlib inline\n",
    "sns.set_context(\"notebook\")  \n",
    "from pylab import rcParams\n",
    "import matplotlib.pyplot as plt\n",
    "from IPython.display import Image\n",
    "from IPython.core.display import HTML \n",
    "import warnings\n",
    "warnings.filterwarnings('ignore')\n",
    "\n",
    "from IPython.core.display import HTML\n",
    "css = open('style-table.css').read() + open('style-notebook.css').read()\n",
    "HTML('<style>{}</style>'.format(css))"
   ]
  },
  {
   "cell_type": "markdown",
   "metadata": {},
   "source": [
    "## Question and motivation\n",
    "\n",
    "\n",
    "![Minion](http://www.economicsonline.co.uk/Global%20macro-economics%20graphs/Phillips-curve-trade-off.png)"
   ]
  },
  {
   "cell_type": "markdown",
   "metadata": {},
   "source": [
    "## Datasets & Data collection methods\n",
    "\n",
    "- OECD https://data.oecd.org\n",
    "- World Bank http://data.worldbank.org/indicator/\n",
    "- BLS https://data.bls.gov"
   ]
  },
  {
   "cell_type": "markdown",
   "metadata": {},
   "source": [
    "## Data manipulation methods & Visualization\n"
   ]
  },
  {
   "cell_type": "code",
   "execution_count": 28,
   "metadata": {
    "collapsed": false
   },
   "outputs": [
    {
     "data": {
      "text/html": [
       "<div>\n",
       "<table border=\"1\" class=\"dataframe\">\n",
       "  <thead>\n",
       "    <tr style=\"text-align: right;\">\n",
       "      <th></th>\n",
       "      <th>LOCATION</th>\n",
       "      <th>INDICATOR</th>\n",
       "      <th>SUBJECT</th>\n",
       "      <th>MEASURE</th>\n",
       "      <th>FREQUENCY</th>\n",
       "      <th>TIME</th>\n",
       "      <th>Value</th>\n",
       "      <th>Flag Codes</th>\n",
       "    </tr>\n",
       "  </thead>\n",
       "  <tbody>\n",
       "    <tr>\n",
       "      <th>211746</th>\n",
       "      <td>ISL</td>\n",
       "      <td>CPI</td>\n",
       "      <td>TOT_FOODENRG</td>\n",
       "      <td>IDX2010</td>\n",
       "      <td>M</td>\n",
       "      <td>1998-06</td>\n",
       "      <td>49.846300</td>\n",
       "      <td>NaN</td>\n",
       "    </tr>\n",
       "    <tr>\n",
       "      <th>96609</th>\n",
       "      <td>ITA</td>\n",
       "      <td>CPI</td>\n",
       "      <td>TOT</td>\n",
       "      <td>AGRWTH</td>\n",
       "      <td>M</td>\n",
       "      <td>1986-11</td>\n",
       "      <td>4.373178</td>\n",
       "      <td>NaN</td>\n",
       "    </tr>\n",
       "    <tr>\n",
       "      <th>132996</th>\n",
       "      <td>SWE</td>\n",
       "      <td>CPI</td>\n",
       "      <td>FOOD</td>\n",
       "      <td>AGRWTH</td>\n",
       "      <td>M</td>\n",
       "      <td>1986-01</td>\n",
       "      <td>8.553935</td>\n",
       "      <td>NaN</td>\n",
       "    </tr>\n",
       "    <tr>\n",
       "      <th>181802</th>\n",
       "      <td>G-7</td>\n",
       "      <td>CPI</td>\n",
       "      <td>FOOD</td>\n",
       "      <td>AGRWTH</td>\n",
       "      <td>M</td>\n",
       "      <td>2010-07</td>\n",
       "      <td>0.772540</td>\n",
       "      <td>NaN</td>\n",
       "    </tr>\n",
       "    <tr>\n",
       "      <th>199609</th>\n",
       "      <td>IRL</td>\n",
       "      <td>CPI</td>\n",
       "      <td>TOT_FOODENRG</td>\n",
       "      <td>IDX2010</td>\n",
       "      <td>M</td>\n",
       "      <td>1979-01</td>\n",
       "      <td>21.602070</td>\n",
       "      <td>NaN</td>\n",
       "    </tr>\n",
       "    <tr>\n",
       "      <th>23698</th>\n",
       "      <td>ISL</td>\n",
       "      <td>CPI</td>\n",
       "      <td>ENRG</td>\n",
       "      <td>AGRWTH</td>\n",
       "      <td>Q</td>\n",
       "      <td>2011-Q1</td>\n",
       "      <td>13.939120</td>\n",
       "      <td>NaN</td>\n",
       "    </tr>\n",
       "    <tr>\n",
       "      <th>96708</th>\n",
       "      <td>ITA</td>\n",
       "      <td>CPI</td>\n",
       "      <td>TOT</td>\n",
       "      <td>AGRWTH</td>\n",
       "      <td>M</td>\n",
       "      <td>1995-02</td>\n",
       "      <td>4.242929</td>\n",
       "      <td>NaN</td>\n",
       "    </tr>\n",
       "    <tr>\n",
       "      <th>1653</th>\n",
       "      <td>DNK</td>\n",
       "      <td>CPI</td>\n",
       "      <td>TOT</td>\n",
       "      <td>IDX2010</td>\n",
       "      <td>A</td>\n",
       "      <td>1986</td>\n",
       "      <td>56.537020</td>\n",
       "      <td>NaN</td>\n",
       "    </tr>\n",
       "    <tr>\n",
       "      <th>156960</th>\n",
       "      <td>CHN</td>\n",
       "      <td>CPI</td>\n",
       "      <td>TOT</td>\n",
       "      <td>IDX2010</td>\n",
       "      <td>M</td>\n",
       "      <td>1996-07</td>\n",
       "      <td>78.993020</td>\n",
       "      <td>NaN</td>\n",
       "    </tr>\n",
       "    <tr>\n",
       "      <th>5927</th>\n",
       "      <td>NZL</td>\n",
       "      <td>CPI</td>\n",
       "      <td>TOT</td>\n",
       "      <td>IDX2010</td>\n",
       "      <td>A</td>\n",
       "      <td>1943</td>\n",
       "      <td>2.592751</td>\n",
       "      <td>NaN</td>\n",
       "    </tr>\n",
       "  </tbody>\n",
       "</table>\n",
       "</div>"
      ],
      "text/plain": [
       "       LOCATION INDICATOR       SUBJECT  MEASURE FREQUENCY     TIME  \\\n",
       "211746      ISL       CPI  TOT_FOODENRG  IDX2010         M  1998-06   \n",
       "96609       ITA       CPI           TOT   AGRWTH         M  1986-11   \n",
       "132996      SWE       CPI          FOOD   AGRWTH         M  1986-01   \n",
       "181802      G-7       CPI          FOOD   AGRWTH         M  2010-07   \n",
       "199609      IRL       CPI  TOT_FOODENRG  IDX2010         M  1979-01   \n",
       "23698       ISL       CPI          ENRG   AGRWTH         Q  2011-Q1   \n",
       "96708       ITA       CPI           TOT   AGRWTH         M  1995-02   \n",
       "1653        DNK       CPI           TOT  IDX2010         A     1986   \n",
       "156960      CHN       CPI           TOT  IDX2010         M  1996-07   \n",
       "5927        NZL       CPI           TOT  IDX2010         A     1943   \n",
       "\n",
       "            Value Flag Codes  \n",
       "211746  49.846300        NaN  \n",
       "96609    4.373178        NaN  \n",
       "132996   8.553935        NaN  \n",
       "181802   0.772540        NaN  \n",
       "199609  21.602070        NaN  \n",
       "23698   13.939120        NaN  \n",
       "96708    4.242929        NaN  \n",
       "1653    56.537020        NaN  \n",
       "156960  78.993020        NaN  \n",
       "5927     2.592751        NaN  "
      ]
     },
     "execution_count": 28,
     "metadata": {},
     "output_type": "execute_result"
    }
   ],
   "source": [
    "cpi_full = pd.read_csv('cpi_full.csv')\n",
    "unemp_full = pd.read_csv('unemp_full.csv')\n",
    "\n",
    "cpi_full.sample(10)"
   ]
  },
  {
   "cell_type": "code",
   "execution_count": 29,
   "metadata": {
    "collapsed": false
   },
   "outputs": [],
   "source": [
    "cpi_full = cpi_full[(cpi_full.MEASURE=='AGRWTH') & (cpi_full.FREQUENCY=='Q') & (cpi_full.SUBJECT=='TOT')].ix[:,[0,5,6]]\n",
    "cpi_full.columns=['LOCATION','TIME','CPI']\n",
    "\n",
    "unemp_full = unemp_full[(unemp_full.FREQUENCY=='Q') & (unemp_full.SUBJECT=='TOT')].ix[:,[0,5,6]]\n",
    "unemp_full.columns=['LOCATION','TIME','UNEMP']"
   ]
  },
  {
   "cell_type": "code",
   "execution_count": 30,
   "metadata": {
    "collapsed": false
   },
   "outputs": [],
   "source": [
    "cpi_full=cpi_full.set_index('TIME')\n",
    "unemp_full=unemp_full.set_index('TIME')"
   ]
  },
  {
   "cell_type": "code",
   "execution_count": 31,
   "metadata": {
    "collapsed": false,
    "scrolled": true
   },
   "outputs": [
    {
     "data": {
      "text/html": [
       "<div>\n",
       "<table border=\"1\" class=\"dataframe\">\n",
       "  <thead>\n",
       "    <tr style=\"text-align: right;\">\n",
       "      <th></th>\n",
       "      <th>LOCATION</th>\n",
       "      <th>CPI</th>\n",
       "      <th>UNEMP</th>\n",
       "      <th>log_CPI</th>\n",
       "      <th>log_UNEMP</th>\n",
       "    </tr>\n",
       "  </thead>\n",
       "  <tbody>\n",
       "    <tr>\n",
       "      <th>2003-Q2</th>\n",
       "      <td>OECD</td>\n",
       "      <td>2.398426</td>\n",
       "      <td>7.093606</td>\n",
       "      <td>0.874813</td>\n",
       "      <td>1.959194</td>\n",
       "    </tr>\n",
       "    <tr>\n",
       "      <th>2004-Q2</th>\n",
       "      <td>OECD</td>\n",
       "      <td>2.416314</td>\n",
       "      <td>6.853205</td>\n",
       "      <td>0.882243</td>\n",
       "      <td>1.924716</td>\n",
       "    </tr>\n",
       "    <tr>\n",
       "      <th>2005-Q1</th>\n",
       "      <td>OECD</td>\n",
       "      <td>2.494288</td>\n",
       "      <td>6.657784</td>\n",
       "      <td>0.914003</td>\n",
       "      <td>1.895787</td>\n",
       "    </tr>\n",
       "    <tr>\n",
       "      <th>2005-Q2</th>\n",
       "      <td>OECD</td>\n",
       "      <td>2.396072</td>\n",
       "      <td>6.609712</td>\n",
       "      <td>0.873831</td>\n",
       "      <td>1.888540</td>\n",
       "    </tr>\n",
       "    <tr>\n",
       "      <th>2005-Q3</th>\n",
       "      <td>OECD</td>\n",
       "      <td>2.820277</td>\n",
       "      <td>6.488519</td>\n",
       "      <td>1.036835</td>\n",
       "      <td>1.870034</td>\n",
       "    </tr>\n",
       "    <tr>\n",
       "      <th>2005-Q4</th>\n",
       "      <td>OECD</td>\n",
       "      <td>2.681499</td>\n",
       "      <td>6.444431</td>\n",
       "      <td>0.986376</td>\n",
       "      <td>1.863216</td>\n",
       "    </tr>\n",
       "    <tr>\n",
       "      <th>2006-Q1</th>\n",
       "      <td>OECD</td>\n",
       "      <td>2.734740</td>\n",
       "      <td>6.267822</td>\n",
       "      <td>1.006036</td>\n",
       "      <td>1.835429</td>\n",
       "    </tr>\n",
       "    <tr>\n",
       "      <th>2006-Q2</th>\n",
       "      <td>OECD</td>\n",
       "      <td>3.018106</td>\n",
       "      <td>6.087727</td>\n",
       "      <td>1.104629</td>\n",
       "      <td>1.806275</td>\n",
       "    </tr>\n",
       "    <tr>\n",
       "      <th>2006-Q3</th>\n",
       "      <td>OECD</td>\n",
       "      <td>2.758927</td>\n",
       "      <td>6.002122</td>\n",
       "      <td>1.014842</td>\n",
       "      <td>1.792113</td>\n",
       "    </tr>\n",
       "    <tr>\n",
       "      <th>2006-Q4</th>\n",
       "      <td>OECD</td>\n",
       "      <td>2.029163</td>\n",
       "      <td>5.830747</td>\n",
       "      <td>0.707623</td>\n",
       "      <td>1.763145</td>\n",
       "    </tr>\n",
       "  </tbody>\n",
       "</table>\n",
       "</div>"
      ],
      "text/plain": [
       "        LOCATION       CPI     UNEMP   log_CPI  log_UNEMP\n",
       "2003-Q2     OECD  2.398426  7.093606  0.874813   1.959194\n",
       "2004-Q2     OECD  2.416314  6.853205  0.882243   1.924716\n",
       "2005-Q1     OECD  2.494288  6.657784  0.914003   1.895787\n",
       "2005-Q2     OECD  2.396072  6.609712  0.873831   1.888540\n",
       "2005-Q3     OECD  2.820277  6.488519  1.036835   1.870034\n",
       "2005-Q4     OECD  2.681499  6.444431  0.986376   1.863216\n",
       "2006-Q1     OECD  2.734740  6.267822  1.006036   1.835429\n",
       "2006-Q2     OECD  3.018106  6.087727  1.104629   1.806275\n",
       "2006-Q3     OECD  2.758927  6.002122  1.014842   1.792113\n",
       "2006-Q4     OECD  2.029163  5.830747  0.707623   1.763145"
      ]
     },
     "execution_count": 31,
     "metadata": {},
     "output_type": "execute_result"
    }
   ],
   "source": [
    "cpi_f_country = cpi_full[cpi_full.LOCATION == 'OECD']\n",
    "unemp_f_country = unemp_full[unemp_full.LOCATION == 'OECD'].ix[:,1]\n",
    "df_country = pd.concat([cpi_f_country,unemp_f_country],axis=1).dropna()\n",
    "df_country['log_CPI']=np.log(df_country.CPI)\n",
    "df_country['log_UNEMP']=np.log(df_country.UNEMP)\n",
    "df_country=df_country[df_country.CPI!=0].dropna()\n",
    "df_country.head(10)"
   ]
  },
  {
   "cell_type": "code",
   "execution_count": 32,
   "metadata": {
    "collapsed": false,
    "scrolled": false
   },
   "outputs": [
    {
     "data": {
      "text/plain": [
       "<matplotlib.text.Text at 0xa8376f0>"
      ]
     },
     "execution_count": 32,
     "metadata": {},
     "output_type": "execute_result"
    },
    {
     "data": {
      "image/png": "[encoded data removed]",
      "text/plain": [
       "<matplotlib.figure.Figure at 0x13d1270>"
      ]
     },
     "metadata": {},
     "output_type": "display_data"
    }
   ],
   "source": [
    "g = sns.regplot(x='log_UNEMP', y='log_CPI',data=df_country,fit_reg =True)\n",
    "g.axes.set_title('log(CPI) vs log(UNEMP) for OECD Countries', fontsize=15)\n"
   ]
  },
  {
   "cell_type": "code",
   "execution_count": 33,
   "metadata": {
    "collapsed": true
   },
   "outputs": [],
   "source": [
    "def get_slope(country):\n",
    "    cpi_f_country = cpi_full[cpi_full.LOCATION == country]\n",
    "    unemp_f_country = unemp_full[unemp_full.LOCATION == country].ix[:,1]\n",
    "    df_country = pd.concat([cpi_f_country,unemp_f_country],axis=1).dropna()\n",
    "    df_country['log_CPI']=np.log(df_country.CPI)\n",
    "    df_country['log_UNEMP']=np.log(df_country.UNEMP)\n",
    "    df_country=df_country[(df_country.CPI!=0) & (df_country.UNEMP!=0)].dropna()\n",
    "\n",
    "    slope, intercept, r, p, serr = stats.linregress(df_country.dropna().log_CPI,\n",
    "                                                df_country.dropna().log_UNEMP)\n",
    "    if np.isnan(slope):\n",
    "        return 0\n",
    "    return slope"
   ]
  },
  {
   "cell_type": "code",
   "execution_count": 36,
   "metadata": {
    "collapsed": false,
    "scrolled": true
   },
   "outputs": [
    {
     "data": {
      "text/html": [
       "<div>\n",
       "<table border=\"1\" class=\"dataframe\">\n",
       "  <thead>\n",
       "    <tr style=\"text-align: right;\">\n",
       "      <th></th>\n",
       "      <th>Country</th>\n",
       "      <th>Index</th>\n",
       "    </tr>\n",
       "  </thead>\n",
       "  <tbody>\n",
       "    <tr>\n",
       "      <th>0</th>\n",
       "      <td>AUS</td>\n",
       "      <td>-0.075762</td>\n",
       "    </tr>\n",
       "    <tr>\n",
       "      <th>1</th>\n",
       "      <td>AUT</td>\n",
       "      <td>-0.405396</td>\n",
       "    </tr>\n",
       "    <tr>\n",
       "      <th>2</th>\n",
       "      <td>BEL</td>\n",
       "      <td>-0.072677</td>\n",
       "    </tr>\n",
       "    <tr>\n",
       "      <th>3</th>\n",
       "      <td>CAN</td>\n",
       "      <td>0.031905</td>\n",
       "    </tr>\n",
       "    <tr>\n",
       "      <th>4</th>\n",
       "      <td>CZE</td>\n",
       "      <td>0.034268</td>\n",
       "    </tr>\n",
       "  </tbody>\n",
       "</table>\n",
       "</div>"
      ],
      "text/plain": [
       "  Country     Index\n",
       "0     AUS -0.075762\n",
       "1     AUT -0.405396\n",
       "2     BEL -0.072677\n",
       "3     CAN  0.031905\n",
       "4     CZE  0.034268"
      ]
     },
     "execution_count": 36,
     "metadata": {},
     "output_type": "execute_result"
    }
   ],
   "source": [
    "country_list = list(unemp_full.LOCATION.unique())\n",
    "\n",
    "country_index = pd.DataFrame({'Country':country_list, 'Index':[get_slope(i) for i in country_list]})\n",
    "country_index.sort_values('Index')\n",
    "country_index.head()\n",
    "# country_index.to_csv('country_index.csv')"
   ]
  },
  {
   "cell_type": "code",
   "execution_count": 35,
   "metadata": {
    "collapsed": false
   },
   "outputs": [
    {
     "data": {
      "text/html": [
       "<div class='tableauPlaceholder' id='viz1487804341508' style='position: relative'><noscript><a href='#'><img alt='Sheet 11 ' src='https:&#47;&#47;public.tableau.com&#47;static&#47;images&#47;Re&#47;Regional_index&#47;Sheet11&#47;1_rss.png' style='border: none' /></a></noscript><object class='tableauViz'  style='display:none;'><param name='host_url' value='https%3A%2F%2Fpublic.tableau.com%2F' /> <param name='site_root' value='' /><param name='name' value='Regional_index&#47;Sheet11' /><param name='tabs' value='no' /><param name='toolbar' value='yes' /><param name='static_image' value='https:&#47;&#47;public.tableau.com&#47;static&#47;images&#47;Re&#47;Regional_index&#47;Sheet11&#47;1.png' /> <param name='animate_transition' value='yes' /><param name='display_static_image' value='yes' /><param name='display_spinner' value='yes' /><param name='display_overlay' value='yes' /><param name='display_count' value='yes' /></object></div>                <script type='text/javascript'>                    var divElement = document.getElementById('viz1487804341508');                    var vizElement = divElement.getElementsByTagName('object')[0];                    vizElement.style.width='100%';vizElement.style.height=(divElement.offsetWidth*0.75)+'px';                    var scriptElement = document.createElement('script');                    scriptElement.src = 'https://public.tableau.com/javascripts/api/viz_v1.js';                    vizElement.parentNode.insertBefore(scriptElement, vizElement);                </script>"
      ],
      "text/plain": [
       "<IPython.core.display.HTML object>"
      ]
     },
     "metadata": {},
     "output_type": "display_data"
    }
   ],
   "source": [
    "%%HTML\n",
    "<div class='tableauPlaceholder' id='viz1487804341508' style='position: relative'><noscript><a href='#'><img alt='Sheet 11 ' src='https:&#47;&#47;public.tableau.com&#47;static&#47;images&#47;Re&#47;Regional_index&#47;Sheet11&#47;1_rss.png' style='border: none' /></a></noscript><object class='tableauViz'  style='display:none;'><param name='host_url' value='https%3A%2F%2Fpublic.tableau.com%2F' /> <param name='site_root' value='' /><param name='name' value='Regional_index&#47;Sheet11' /><param name='tabs' value='no' /><param name='toolbar' value='yes' /><param name='static_image' value='https:&#47;&#47;public.tableau.com&#47;static&#47;images&#47;Re&#47;Regional_index&#47;Sheet11&#47;1.png' /> <param name='animate_transition' value='yes' /><param name='display_static_image' value='yes' /><param name='display_spinner' value='yes' /><param name='display_overlay' value='yes' /><param name='display_count' value='yes' /></object></div>                <script type='text/javascript'>                    var divElement = document.getElementById('viz1487804341508');                    var vizElement = divElement.getElementsByTagName('object')[0];                    vizElement.style.width='100%';vizElement.style.height=(divElement.offsetWidth*0.75)+'px';                    var scriptElement = document.createElement('script');                    scriptElement.src = 'https://public.tableau.com/javascripts/api/viz_v1.js';                    vizElement.parentNode.insertBefore(scriptElement, vizElement);                </script>"
   ]
  }
 ],
 "metadata": {
  "anaconda-cloud": {},
  "kernelspec": {
   "display_name": "Python [conda env:py3]",
   "language": "python",
   "name": "conda-env-py3-py"
  },
  "language_info": {
   "codemirror_mode": {
    "name": "ipython",
    "version": 3
   },
   "file_extension": ".py",
   "mimetype": "text/x-python",
   "name": "python",
   "nbconvert_exporter": "python",
   "pygments_lexer": "ipython3",
   "version": "3.5.2"
  }
 },
 "nbformat": 4,
 "nbformat_minor": 1
}
